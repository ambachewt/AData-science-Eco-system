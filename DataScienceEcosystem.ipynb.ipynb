{
 "cells": [
  {
   "cell_type": "code",
   "execution_count": null,
   "id": "0a976c58-06ff-428d-9ccc-9c5a52df5b49",
   "metadata": {},
   "outputs": [],
   "source": []
  },
  {
   "cell_type": "markdown",
   "id": "3eba3fbd-8421-4234-9f57-0e3b1bf27d74",
   "metadata": {},
   "source": [
    "# ex2\n",
    "# Data Science Tools and Ecosystem"
   ]
  },
  {
   "cell_type": "code",
   "execution_count": null,
   "id": "bef6e427-53f2-4fee-be11-1b1347ce7c03",
   "metadata": {},
   "outputs": [],
   "source": []
  },
  {
   "cell_type": "code",
   "execution_count": null,
   "id": "af4726e2-7a7e-4531-8170-9d2ad34b9660",
   "metadata": {},
   "outputs": [],
   "source": []
  },
  {
   "cell_type": "markdown",
   "id": "ebf9ef92-72f1-44aa-a260-39deb366b430",
   "metadata": {},
   "source": [
    "# ex 3\n",
    "# introduction sentence about notebook \n",
    "In this notebook, Data Science Tools,data science languages  and data science laibraries  are summarize.\n"
   ]
  },
  {
   "cell_type": "code",
   "execution_count": null,
   "id": "66c20c92-40b3-40c7-8160-3f74c627603e",
   "metadata": {},
   "outputs": [],
   "source": []
  },
  {
   "cell_type": "markdown",
   "id": "4efdc403-1b3f-4e4b-a6fc-957477f855af",
   "metadata": {},
   "source": [
    "# ex 4\n",
    "##  list of Data Science Languages\n",
    "\n",
    "* Python\n",
    "* R\n",
    "* Scala\n",
    "* Julia\n",
    "* Java\n",
    "* c++\n",
    "* java script"
   ]
  },
  {
   "cell_type": "markdown",
   "id": "79c67809-e7a6-4237-a8e9-f2e0dbce2b7b",
   "metadata": {},
   "source": []
  },
  {
   "cell_type": "markdown",
   "id": "2759bd6b-6148-43c1-ba4c-0ce2bcbdb0ca",
   "metadata": {
    "tags": []
   },
   "source": [
    "# ex 5\n",
    "# list of  Data Science Libraries\n",
    "\n",
    "* NumPy\n",
    "* Pandas\n",
    "* Matplotlib\n",
    "* Seaborn\n",
    "* Scikit-learn\n",
    "* TensorFlow\n",
    "* Keras\n",
    "* PyTorch"
   ]
  },
  {
   "cell_type": "markdown",
   "id": "da3127d1-53a3-4b0c-815a-f9c8dc5a8be5",
   "metadata": {},
   "source": []
  },
  {
   "cell_type": "markdown",
   "id": "719dfaa7-886b-4dc0-ad4b-cc7e9c134a8b",
   "metadata": {},
   "source": [
    "# ex6\n",
    "\n",
    "# the data science tools using table\n",
    "| Tool Name           | Functionality                                 |\n",
    "|--------------------|-------------------------------------------------|\n",
    "| Jupyter Notebook    | Interactive environment for code, data, and visualization |\n",
    "| TensorFlow (v2.x)  | Machine learning library                             |\n",
    "| Spark (v3.x)        | Large-scale data processing framework    "
   ]
  },
  {
   "cell_type": "code",
   "execution_count": null,
   "id": "985cb886-287a-4317-aebd-61888f9de6c4",
   "metadata": {},
   "outputs": [],
   "source": []
  },
  {
   "cell_type": "markdown",
   "id": "4d0cbb2d-8274-4590-a74e-1bab92d9228c",
   "metadata": {},
   "source": [
    "# ex 7\n",
    "Here are some examples of arithmetic expressions:\n",
    "\n",
    "* Addition: `a + b`\n",
    "* Subtraction: `a - b`\n",
    "* Multiplication: `a * b`\n",
    "* Division: `a / b`"
   ]
  },
  {
   "cell_type": "markdown",
   "id": "8e2183ca-a118-469e-8e64-4adf08436f45",
   "metadata": {},
   "source": []
  },
  {
   "cell_type": "code",
   "execution_count": 2,
   "id": "23fba05f-30c6-40f3-a633-3c86f78aa703",
   "metadata": {
    "tags": []
   },
   "outputs": [
    {
     "name": "stdout",
     "output_type": "stream",
     "text": [
      "The product of 5 and 3 is 15\n",
      "The sum of 10 and 2 is 12\n"
     ]
    }
   ],
   "source": [
    "# ex 8\n",
    "# Multiply two numbers\n",
    "number1 = 5\n",
    "number2 = 3\n",
    "product = number1 * number2\n",
    "print(\"The product of\", number1, \"and\", number2, \"is\", product)\n",
    "\n",
    "# Add two numbers\n",
    "number3 = 10\n",
    "number4 = 2\n",
    "sum = number3 + number4\n",
    "print(\"The sum of\", number3, \"and\", number4, \"is\", sum)"
   ]
  },
  {
   "cell_type": "code",
   "execution_count": null,
   "id": "bc668b51-06b3-4f57-acc2-eac08737a135",
   "metadata": {},
   "outputs": [],
   "source": []
  },
  {
   "cell_type": "code",
   "execution_count": 3,
   "id": "32c4969b-e5d4-49a9-8a9f-9ce9dfd81aec",
   "metadata": {
    "tags": []
   },
   "outputs": [
    {
     "name": "stdout",
     "output_type": "stream",
     "text": [
      "60 minutes is equal to 1.0 hours\n"
     ]
    }
   ],
   "source": [
    "# ex 9\n",
    "# Convert minutes to hours\n",
    "minutes = 60\n",
    "hours = minutes / 60\n",
    "print(minutes, \"minutes is equal to\", hours, \"hours\")"
   ]
  },
  {
   "cell_type": "code",
   "execution_count": null,
   "id": "7f09d277-3afa-45d6-aaee-43960cd6714d",
   "metadata": {},
   "outputs": [],
   "source": []
  },
  {
   "cell_type": "markdown",
   "id": "609c001b-b94a-4c77-9289-16ae3cac9ed5",
   "metadata": {},
   "source": [
    "# ex 10\n",
    "**Objectives:**\n",
    "\n",
    "* List popular programming languages for Data Science.\n",
    "* Explore basic data science libraries in Python. \n",
    "* Perform simple calculations using Python code.\n",
    "* Understand the concept of data science tools and their functionalities."
   ]
  },
  {
   "cell_type": "markdown",
   "id": "855b9f89-f46e-4892-8884-47c3cae0ea15",
   "metadata": {},
   "source": []
  },
  {
   "cell_type": "markdown",
   "id": "80094580-afc5-4c1f-9aed-1fe55fc5421c",
   "metadata": {},
   "source": [
    "# ex 11\n",
    " ## Author: Ambachew Tarekegn"
   ]
  },
  {
   "cell_type": "markdown",
   "id": "78ad1f4b-b3d9-4126-a492-2597df897dfa",
   "metadata": {},
   "source": []
  }
 ],
 "metadata": {
  "kernelspec": {
   "display_name": "Python",
   "language": "python",
   "name": "conda-env-python-py"
  },
  "language_info": {
   "codemirror_mode": {
    "name": "ipython",
    "version": 3
   },
   "file_extension": ".py",
   "mimetype": "text/x-python",
   "name": "python",
   "nbconvert_exporter": "python",
   "pygments_lexer": "ipython3",
   "version": "3.7.12"
  }
 },
 "nbformat": 4,
 "nbformat_minor": 5
}
